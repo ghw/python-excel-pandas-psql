{
 "cells": [
  {
   "cell_type": "code",
   "execution_count": 1,
   "metadata": {},
   "outputs": [],
   "source": [
    "%load_ext autoreload\n",
    "%autoreload 2"
   ]
  },
  {
   "cell_type": "code",
   "execution_count": 2,
   "metadata": {},
   "outputs": [],
   "source": [
    "import os.path\n",
    "import sys\n",
    "\n",
    "sys.path.append(os.path.join(os.getcwd(), '..'))"
   ]
  },
  {
   "cell_type": "code",
   "execution_count": 3,
   "metadata": {},
   "outputs": [],
   "source": [
    "%reload_ext autoreload\n",
    "\n",
    "from src.general.PandasFunc import PandasFunc\n",
    "from src.ExcelPandas import ExcelPandas\n",
    "from src.PostgresPandas import PostgresPandas\n",
    "\n",
    "pandas_func = PandasFunc()\n",
    "excel_pandas = ExcelPandas()\n",
    "postgres_pandas = PostgresPandas()"
   ]
  },
  {
   "cell_type": "code",
   "execution_count": 9,
   "metadata": {},
   "outputs": [],
   "source": [
    "df = excel_pandas.get_dataframe_from_excel_file('test.xlsx')"
   ]
  },
  {
   "cell_type": "code",
   "execution_count": 10,
   "metadata": {},
   "outputs": [],
   "source": [
    "%reload_ext autoreload\n",
    "from src.ExcelPostgres import ExcelPostgres\n",
    "excel_postgres = ExcelPostgres()\n",
    "excel_psql = ExcelPostgres(host='localhost', database='Samyak', username='postgres', password='')"
   ]
  },
  {
   "cell_type": "code",
   "execution_count": 11,
   "metadata": {
    "scrolled": true
   },
   "outputs": [],
   "source": [
    "excel_psql.drop_table('public', 'test')\n",
    "excel_psql.send_dataframe_to_psql(df, 'public', 'test')"
   ]
  },
  {
   "cell_type": "code",
   "execution_count": 14,
   "metadata": {},
   "outputs": [],
   "source": [
    "dict_with_filepath_to_query_and_excel_sheet = {\n",
    "    'abcdef.xlsx' : [\n",
    "        {\n",
    "            'query': 'select * from test',\n",
    "            'sheet': 'all'\n",
    "        },\n",
    "        {\n",
    "            'query': 'select * from test limit 10',\n",
    "            'sheet': 'sample'\n",
    "        }\n",
    "    ]\n",
    "}\n",
    "\n",
    "excel_psql.get_psql_query_result_in_excel(dict_with_filepath_to_query_and_excel_sheet)"
   ]
  }
 ],
 "metadata": {
  "kernelspec": {
   "display_name": "Python 3",
   "language": "python",
   "name": "python3"
  },
  "language_info": {
   "codemirror_mode": {
    "name": "ipython",
    "version": 3
   },
   "file_extension": ".py",
   "mimetype": "text/x-python",
   "name": "python",
   "nbconvert_exporter": "python",
   "pygments_lexer": "ipython3",
   "version": "3.6.2"
  }
 },
 "nbformat": 4,
 "nbformat_minor": 2
}
